{
  "nbformat": 4,
  "nbformat_minor": 0,
  "metadata": {
    "colab": {
      "name": "Behavioural_Cloning.ipynb",
      "provenance": [],
      "collapsed_sections": []
    },
    "kernelspec": {
      "name": "python3",
      "display_name": "Python 3"
    }
  },
  "cells": [
    {
      "cell_type": "code",
      "metadata": {
        "id": "x2eozmS0Pj7f",
        "colab_type": "code",
        "colab": {
          "base_uri": "https://localhost:8080/",
          "height": 102
        },
        "outputId": "e2f60e71-be5f-4941-b13f-5ceab210ac71"
      },
      "source": [
        "!git clone https://github.com/rslim087a/track\n",
        "#the above repository consists of various images captures during the training \n",
        "#period of the self driving car by making use of 3 cameras present on the windsheild of the car(on left, right and center)\n",
        "#the data captured is the 3 images, steer angle, thrust and brake information for the car"
      ],
      "execution_count": null,
      "outputs": [
        {
          "output_type": "stream",
          "text": [
            "Cloning into 'track'...\n",
            "remote: Enumerating objects: 12163, done.\u001b[K\n",
            "remote: Total 12163 (delta 0), reused 0 (delta 0), pack-reused 12163\u001b[K\n",
            "Receiving objects: 100% (12163/12163), 156.98 MiB | 34.08 MiB/s, done.\n",
            "Checking out files: 100% (12160/12160), done.\n"
          ],
          "name": "stdout"
        }
      ]
    },
    {
      "cell_type": "code",
      "metadata": {
        "id": "XXLTuW_BQnKb",
        "colab_type": "code",
        "colab": {
          "base_uri": "https://localhost:8080/",
          "height": 34
        },
        "outputId": "1a7a27a8-9aee-4954-e2f6-d07b5aa12c71"
      },
      "source": [
        "!ls track\n",
        "#this command is used to list the components present in the above repository\n"
      ],
      "execution_count": null,
      "outputs": [
        {
          "output_type": "stream",
          "text": [
            "driving_log.csv  IMG\n"
          ],
          "name": "stdout"
        }
      ]
    },
    {
      "cell_type": "code",
      "metadata": {
        "id": "hfILWOmHSWkz",
        "colab_type": "code",
        "colab": {
          "base_uri": "https://localhost:8080/",
          "height": 34
        },
        "outputId": "2540e6f5-bfbb-4b82-e4b0-4a4436824e1c"
      },
      "source": [
        "import os\n",
        "import numpy as np\n",
        "import matplotlib.pyplot as plt\n",
        "import keras\n",
        "from keras.models import Sequential\n",
        "from keras.optimizers import Adam\n",
        "from keras.layers import Conv2D, MaxPooling2D,Dropout,Dense,Flatten\n",
        "from sklearn.utils import shuffle\n",
        "from sklearn.model_selection import train_test_split\n",
        "import cv2\n",
        "import pandas as pd\n",
        "import random\n",
        "import ntpath\n",
        "#ntpath is a library that would be used to limit the path of our images to only the leaf"
      ],
      "execution_count": null,
      "outputs": [
        {
          "output_type": "stream",
          "text": [
            "Using TensorFlow backend.\n"
          ],
          "name": "stderr"
        }
      ]
    },
    {
      "cell_type": "code",
      "metadata": {
        "id": "G0lRVyDOU-so",
        "colab_type": "code",
        "colab": {
          "base_uri": "https://localhost:8080/",
          "height": 224
        },
        "outputId": "1baf1814-393d-4889-c574-6d2097c22cd7"
      },
      "source": [
        "data_dir='track'\n",
        "columns=['center','left','right','steering','throttle','reverse','speed']\n",
        "data=pd.read_csv(os.path.join(data_dir,'driving_log.csv'),names=columns)\n",
        "pd.set_option('display.max_colwidth',None)\n",
        "data.head()"
      ],
      "execution_count": null,
      "outputs": [
        {
          "output_type": "execute_result",
          "data": {
            "text/html": [
              "<div>\n",
              "<style scoped>\n",
              "    .dataframe tbody tr th:only-of-type {\n",
              "        vertical-align: middle;\n",
              "    }\n",
              "\n",
              "    .dataframe tbody tr th {\n",
              "        vertical-align: top;\n",
              "    }\n",
              "\n",
              "    .dataframe thead th {\n",
              "        text-align: right;\n",
              "    }\n",
              "</style>\n",
              "<table border=\"1\" class=\"dataframe\">\n",
              "  <thead>\n",
              "    <tr style=\"text-align: right;\">\n",
              "      <th></th>\n",
              "      <th>center</th>\n",
              "      <th>left</th>\n",
              "      <th>right</th>\n",
              "      <th>steering</th>\n",
              "      <th>throttle</th>\n",
              "      <th>reverse</th>\n",
              "      <th>speed</th>\n",
              "    </tr>\n",
              "  </thead>\n",
              "  <tbody>\n",
              "    <tr>\n",
              "      <th>0</th>\n",
              "      <td>C:\\Users\\Amer\\Desktop\\new_track\\IMG\\center_2018_07_16_17_11_43_382.jpg</td>\n",
              "      <td>C:\\Users\\Amer\\Desktop\\new_track\\IMG\\left_2018_07_16_17_11_43_382.jpg</td>\n",
              "      <td>C:\\Users\\Amer\\Desktop\\new_track\\IMG\\right_2018_07_16_17_11_43_382.jpg</td>\n",
              "      <td>0.0</td>\n",
              "      <td>0.0</td>\n",
              "      <td>0.0</td>\n",
              "      <td>0.649786</td>\n",
              "    </tr>\n",
              "    <tr>\n",
              "      <th>1</th>\n",
              "      <td>C:\\Users\\Amer\\Desktop\\new_track\\IMG\\center_2018_07_16_17_11_43_670.jpg</td>\n",
              "      <td>C:\\Users\\Amer\\Desktop\\new_track\\IMG\\left_2018_07_16_17_11_43_670.jpg</td>\n",
              "      <td>C:\\Users\\Amer\\Desktop\\new_track\\IMG\\right_2018_07_16_17_11_43_670.jpg</td>\n",
              "      <td>0.0</td>\n",
              "      <td>0.0</td>\n",
              "      <td>0.0</td>\n",
              "      <td>0.627942</td>\n",
              "    </tr>\n",
              "    <tr>\n",
              "      <th>2</th>\n",
              "      <td>C:\\Users\\Amer\\Desktop\\new_track\\IMG\\center_2018_07_16_17_11_43_724.jpg</td>\n",
              "      <td>C:\\Users\\Amer\\Desktop\\new_track\\IMG\\left_2018_07_16_17_11_43_724.jpg</td>\n",
              "      <td>C:\\Users\\Amer\\Desktop\\new_track\\IMG\\right_2018_07_16_17_11_43_724.jpg</td>\n",
              "      <td>0.0</td>\n",
              "      <td>0.0</td>\n",
              "      <td>0.0</td>\n",
              "      <td>0.622910</td>\n",
              "    </tr>\n",
              "    <tr>\n",
              "      <th>3</th>\n",
              "      <td>C:\\Users\\Amer\\Desktop\\new_track\\IMG\\center_2018_07_16_17_11_43_792.jpg</td>\n",
              "      <td>C:\\Users\\Amer\\Desktop\\new_track\\IMG\\left_2018_07_16_17_11_43_792.jpg</td>\n",
              "      <td>C:\\Users\\Amer\\Desktop\\new_track\\IMG\\right_2018_07_16_17_11_43_792.jpg</td>\n",
              "      <td>0.0</td>\n",
              "      <td>0.0</td>\n",
              "      <td>0.0</td>\n",
              "      <td>0.619162</td>\n",
              "    </tr>\n",
              "    <tr>\n",
              "      <th>4</th>\n",
              "      <td>C:\\Users\\Amer\\Desktop\\new_track\\IMG\\center_2018_07_16_17_11_43_860.jpg</td>\n",
              "      <td>C:\\Users\\Amer\\Desktop\\new_track\\IMG\\left_2018_07_16_17_11_43_860.jpg</td>\n",
              "      <td>C:\\Users\\Amer\\Desktop\\new_track\\IMG\\right_2018_07_16_17_11_43_860.jpg</td>\n",
              "      <td>0.0</td>\n",
              "      <td>0.0</td>\n",
              "      <td>0.0</td>\n",
              "      <td>0.615438</td>\n",
              "    </tr>\n",
              "  </tbody>\n",
              "</table>\n",
              "</div>"
            ],
            "text/plain": [
              "                                                                   center  ...     speed\n",
              "0  C:\\Users\\Amer\\Desktop\\new_track\\IMG\\center_2018_07_16_17_11_43_382.jpg  ...  0.649786\n",
              "1  C:\\Users\\Amer\\Desktop\\new_track\\IMG\\center_2018_07_16_17_11_43_670.jpg  ...  0.627942\n",
              "2  C:\\Users\\Amer\\Desktop\\new_track\\IMG\\center_2018_07_16_17_11_43_724.jpg  ...  0.622910\n",
              "3  C:\\Users\\Amer\\Desktop\\new_track\\IMG\\center_2018_07_16_17_11_43_792.jpg  ...  0.619162\n",
              "4  C:\\Users\\Amer\\Desktop\\new_track\\IMG\\center_2018_07_16_17_11_43_860.jpg  ...  0.615438\n",
              "\n",
              "[5 rows x 7 columns]"
            ]
          },
          "metadata": {
            "tags": []
          },
          "execution_count": 5
        }
      ]
    },
    {
      "cell_type": "code",
      "metadata": {
        "id": "AHMAMVJxWldS",
        "colab_type": "code",
        "colab": {
          "base_uri": "https://localhost:8080/",
          "height": 204
        },
        "outputId": "1060a23b-6388-4ffc-9290-898438059864"
      },
      "source": [
        "def path_leaf(path):\n",
        "  head,tail=ntpath.split(path)\n",
        "  return tail\n",
        "\n",
        "data['center']=data['center'].apply(path_leaf)\n",
        "data['left']=data['left'].apply(path_leaf)\n",
        "data['right']=data['right'].apply(path_leaf)\n",
        "data.head()"
      ],
      "execution_count": null,
      "outputs": [
        {
          "output_type": "execute_result",
          "data": {
            "text/html": [
              "<div>\n",
              "<style scoped>\n",
              "    .dataframe tbody tr th:only-of-type {\n",
              "        vertical-align: middle;\n",
              "    }\n",
              "\n",
              "    .dataframe tbody tr th {\n",
              "        vertical-align: top;\n",
              "    }\n",
              "\n",
              "    .dataframe thead th {\n",
              "        text-align: right;\n",
              "    }\n",
              "</style>\n",
              "<table border=\"1\" class=\"dataframe\">\n",
              "  <thead>\n",
              "    <tr style=\"text-align: right;\">\n",
              "      <th></th>\n",
              "      <th>center</th>\n",
              "      <th>left</th>\n",
              "      <th>right</th>\n",
              "      <th>steering</th>\n",
              "      <th>throttle</th>\n",
              "      <th>reverse</th>\n",
              "      <th>speed</th>\n",
              "    </tr>\n",
              "  </thead>\n",
              "  <tbody>\n",
              "    <tr>\n",
              "      <th>0</th>\n",
              "      <td>center_2018_07_16_17_11_43_382.jpg</td>\n",
              "      <td>left_2018_07_16_17_11_43_382.jpg</td>\n",
              "      <td>right_2018_07_16_17_11_43_382.jpg</td>\n",
              "      <td>0.0</td>\n",
              "      <td>0.0</td>\n",
              "      <td>0.0</td>\n",
              "      <td>0.649786</td>\n",
              "    </tr>\n",
              "    <tr>\n",
              "      <th>1</th>\n",
              "      <td>center_2018_07_16_17_11_43_670.jpg</td>\n",
              "      <td>left_2018_07_16_17_11_43_670.jpg</td>\n",
              "      <td>right_2018_07_16_17_11_43_670.jpg</td>\n",
              "      <td>0.0</td>\n",
              "      <td>0.0</td>\n",
              "      <td>0.0</td>\n",
              "      <td>0.627942</td>\n",
              "    </tr>\n",
              "    <tr>\n",
              "      <th>2</th>\n",
              "      <td>center_2018_07_16_17_11_43_724.jpg</td>\n",
              "      <td>left_2018_07_16_17_11_43_724.jpg</td>\n",
              "      <td>right_2018_07_16_17_11_43_724.jpg</td>\n",
              "      <td>0.0</td>\n",
              "      <td>0.0</td>\n",
              "      <td>0.0</td>\n",
              "      <td>0.622910</td>\n",
              "    </tr>\n",
              "    <tr>\n",
              "      <th>3</th>\n",
              "      <td>center_2018_07_16_17_11_43_792.jpg</td>\n",
              "      <td>left_2018_07_16_17_11_43_792.jpg</td>\n",
              "      <td>right_2018_07_16_17_11_43_792.jpg</td>\n",
              "      <td>0.0</td>\n",
              "      <td>0.0</td>\n",
              "      <td>0.0</td>\n",
              "      <td>0.619162</td>\n",
              "    </tr>\n",
              "    <tr>\n",
              "      <th>4</th>\n",
              "      <td>center_2018_07_16_17_11_43_860.jpg</td>\n",
              "      <td>left_2018_07_16_17_11_43_860.jpg</td>\n",
              "      <td>right_2018_07_16_17_11_43_860.jpg</td>\n",
              "      <td>0.0</td>\n",
              "      <td>0.0</td>\n",
              "      <td>0.0</td>\n",
              "      <td>0.615438</td>\n",
              "    </tr>\n",
              "  </tbody>\n",
              "</table>\n",
              "</div>"
            ],
            "text/plain": [
              "                               center  ...     speed\n",
              "0  center_2018_07_16_17_11_43_382.jpg  ...  0.649786\n",
              "1  center_2018_07_16_17_11_43_670.jpg  ...  0.627942\n",
              "2  center_2018_07_16_17_11_43_724.jpg  ...  0.622910\n",
              "3  center_2018_07_16_17_11_43_792.jpg  ...  0.619162\n",
              "4  center_2018_07_16_17_11_43_860.jpg  ...  0.615438\n",
              "\n",
              "[5 rows x 7 columns]"
            ]
          },
          "metadata": {
            "tags": []
          },
          "execution_count": 6
        }
      ]
    },
    {
      "cell_type": "code",
      "metadata": {
        "id": "tdzhBhSLYdy-",
        "colab_type": "code",
        "colab": {
          "base_uri": "https://localhost:8080/",
          "height": 333
        },
        "outputId": "d134b248-94e6-427d-cb4d-f9938c311b47"
      },
      "source": [
        "#lets visualize the distribution of steering angles\n",
        "#here, we are have chosen number of bins to be equal to 25 since we want our steering data to be centeres around 0\n",
        "#0 implies driving straight\n",
        "num_bins=25\n",
        "hist,bins=np.histogram(data['steering'],num_bins)\n",
        "print(bins)\n",
        "#since data here is not centered around 0, we perform the element wise additon with the shifted array and divide by 2 since each value would double up on addition\n",
        "center=(bins[:-1]+bins[1:])*0.5\n",
        "plt.bar(center,hist,width=0.05)\n",
        "#now it is evident that the most commmon steering angle is 0 radians\n"
      ],
      "execution_count": null,
      "outputs": [
        {
          "output_type": "stream",
          "text": [
            "[-1.   -0.92 -0.84 -0.76 -0.68 -0.6  -0.52 -0.44 -0.36 -0.28 -0.2  -0.12\n",
            " -0.04  0.04  0.12  0.2   0.28  0.36  0.44  0.52  0.6   0.68  0.76  0.84\n",
            "  0.92  1.  ]\n"
          ],
          "name": "stdout"
        },
        {
          "output_type": "execute_result",
          "data": {
            "text/plain": [
              "<BarContainer object of 25 artists>"
            ]
          },
          "metadata": {
            "tags": []
          },
          "execution_count": 7
        },
        {
          "output_type": "display_data",
          "data": {
            "image/png": "[encoded data removed]",
            "text/plain": [
              "<Figure size 432x288 with 1 Axes>"
            ]
          },
          "metadata": {
            "tags": [],
            "needs_background": "light"
          }
        }
      ]
    },
    {
      "cell_type": "code",
      "metadata": {
        "id": "yBKuY46HZrhS",
        "colab_type": "code",
        "colab": {
          "base_uri": "https://localhost:8080/",
          "height": 282
        },
        "outputId": "824e2b9c-a507-4598-d5d8-040135f01e2d"
      },
      "source": [
        "#we can observe that 0 degree occurs alot more than other angles hence this may cause bias during testing\n",
        "#therefore we would set some maximum threshold for samples\n",
        "samples_per_bin=200\n",
        "plt.bar(center,hist,width=0.05)\n",
        "plt.plot((np.min(data['steering']),np.max(data['steering'])),(samples_per_bin,samples_per_bin))"
      ],
      "execution_count": null,
      "outputs": [
        {
          "output_type": "execute_result",
          "data": {
            "text/plain": [
              "[<matplotlib.lines.Line2D at 0x7fd420957f98>]"
            ]
          },
          "metadata": {
            "tags": []
          },
          "execution_count": 8
        },
        {
          "output_type": "display_data",
          "data": {
            "image/png": "[encoded data removed]",
            "text/plain": [
              "<Figure size 432x288 with 1 Axes>"
            ]
          },
          "metadata": {
            "tags": [],
            "needs_background": "light"
          }
        }
      ]
    },
    {
      "cell_type": "code",
      "metadata": {
        "id": "FWkEB_bIdYJi",
        "colab_type": "code",
        "colab": {
          "base_uri": "https://localhost:8080/",
          "height": 333
        },
        "outputId": "d2b9483a-522c-40b0-877a-d85907b65560"
      },
      "source": [
        "# lets cut off the excess data\n",
        "print('total_data:', len(data))\n",
        "remove_list=[]\n",
        "for j in range(num_bins):\n",
        "  list_=[]\n",
        "  for i in range(len(data['steering'])):\n",
        "    if data['steering'][i]>=bins[j] and data['steering'][i]<=bins[j+1]:\n",
        "      list_.append(i)\n",
        "  list_=shuffle(list_)\n",
        "  list_=list_[samples_per_bin:]\n",
        "  remove_list.extend(list_)\n",
        "\n",
        "print('removed:', len(remove_list))\n",
        "data.drop(data.index[remove_list],inplace=True)\n",
        "print('remaining:', len(data))\n",
        "\n",
        "hist,_=np.histogram(data['steering'],num_bins)\n",
        "plt.bar(center,hist,width=0.05)\n",
        "plt.plot((np.min(data['steering']),np.max(data['steering'])),(samples_per_bin,samples_per_bin))\n",
        "\n",
        "\n",
        "\n"
      ],
      "execution_count": null,
      "outputs": [
        {
          "output_type": "stream",
          "text": [
            "total_data: 4053\n",
            "removed: 2790\n",
            "remaining: 1263\n"
          ],
          "name": "stdout"
        },
        {
          "output_type": "execute_result",
          "data": {
            "text/plain": [
              "[<matplotlib.lines.Line2D at 0x7fd420357c88>]"
            ]
          },
          "metadata": {
            "tags": []
          },
          "execution_count": 9
        },
        {
          "output_type": "display_data",
          "data": {
            "image/png": "[encoded data removed]",
            "text/plain": [
              "<Figure size 432x288 with 1 Axes>"
            ]
          },
          "metadata": {
            "tags": [],
            "needs_background": "light"
          }
        }
      ]
    },
    {
      "cell_type": "code",
      "metadata": {
        "id": "Q86SC7utigpN",
        "colab_type": "code",
        "colab": {}
      },
      "source": [
        "def load_img_steering(datadir,df):\n",
        "  image_path=[]\n",
        "  steering=[]\n",
        "  for i in range(len(data)):\n",
        "    indexed_data=data.iloc[i]\n",
        "    #this would select a particular row of our dataset\n",
        "    center,left,right=indexed_data[0],indexed_data[1],indexed_data[2]\n",
        "    image_path.append(os.path.join(data_dir,center.strip()))\n",
        "    steering.append(float(indexed_data[3]))\n",
        "    #indexed_data[3] contains steering angles\n",
        "  image_paths=np.asarray(image_path)\n",
        "  steering=np.asarray(steering)\n",
        "  return image_path,steering\n",
        "\n",
        "image_paths,steerings=load_img_steering(data_dir+'/IMG',data)\n",
        "#now we have our dataset for images captured from the center camera and their corresponding steering angle"
      ],
      "execution_count": null,
      "outputs": []
    },
    {
      "cell_type": "code",
      "metadata": {
        "id": "ugk48u3imRrt",
        "colab_type": "code",
        "colab": {
          "base_uri": "https://localhost:8080/",
          "height": 51
        },
        "outputId": "919a1a0a-66b2-4c78-a4cd-5995a6a7cbeb"
      },
      "source": [
        "X_train,X_valid,y_train,y_valid=train_test_split(image_paths,steerings,test_size=0.2,random_state=6)\n",
        "print('Training Samples= {} \\nValidation Samples={}'.format(len(X_train),len(X_valid)))"
      ],
      "execution_count": null,
      "outputs": [
        {
          "output_type": "stream",
          "text": [
            "Training Samples= 1010 \n",
            "Validation Samples=253\n"
          ],
          "name": "stdout"
        }
      ]
    },
    {
      "cell_type": "code",
      "metadata": {
        "id": "AAS9Pnx6ohdr",
        "colab_type": "code",
        "colab": {
          "base_uri": "https://localhost:8080/",
          "height": 298
        },
        "outputId": "b6c7be12-d492-45d9-c2e4-7e9e058d5905"
      },
      "source": [
        "fig,axes=plt.subplots(1,2,figsize=(12,4))\n",
        "axes[0].hist(y_train,bins=num_bins,width=0.05,color='blue')\n",
        "axes[0].set_title('Training set')\n",
        "axes[1].hist(y_valid,bins=num_bins,width=0.05,color='red')\n",
        "axes[1].set_title('Validation set')"
      ],
      "execution_count": null,
      "outputs": [
        {
          "output_type": "execute_result",
          "data": {
            "text/plain": [
              "Text(0.5, 1.0, 'Validation set')"
            ]
          },
          "metadata": {
            "tags": []
          },
          "execution_count": 13
        },
        {
          "output_type": "display_data",
          "data": {
            "image/png": "[encoded data removed]",
            "text/plain": [
              "<Figure size 864x288 with 2 Axes>"
            ]
          },
          "metadata": {
            "tags": [],
            "needs_background": "light"
          }
        }
      ]
    },
    {
      "cell_type": "code",
      "metadata": {
        "id": "hUp31p45pOHQ",
        "colab_type": "code",
        "colab": {}
      },
      "source": [
        "#we can observe a uniform distribution among training and test sets"
      ],
      "execution_count": null,
      "outputs": []
    }
  ]
}